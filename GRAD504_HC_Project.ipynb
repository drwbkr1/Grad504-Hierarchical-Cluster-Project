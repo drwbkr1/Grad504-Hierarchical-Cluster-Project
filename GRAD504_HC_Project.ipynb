{
  "nbformat": 4,
  "nbformat_minor": 0,
  "metadata": {
    "colab": {
      "provenance": [],
      "mount_file_id": "1iw--FYslASbASPbh40ldStJtOB5QKfRe",
      "authorship_tag": "ABX9TyOJ4tM0hhQClh0siua3okGA",
      "include_colab_link": true
    },
    "kernelspec": {
      "name": "python3",
      "display_name": "Python 3"
    },
    "language_info": {
      "name": "python"
    }
  },
  "cells": [
    {
      "cell_type": "markdown",
      "metadata": {
        "id": "view-in-github",
        "colab_type": "text"
      },
      "source": [
        "<a href=\"https://colab.research.google.com/github/drwbkr1/Grad504-Hierarchical-Cluster-Project/blob/main/GRAD504_HC_Project.ipynb\" target=\"_parent\"><img src=\"https://colab.research.google.com/assets/colab-badge.svg\" alt=\"Open In Colab\"/></a>"
      ]
    },
    {
      "cell_type": "code",
      "execution_count": null,
      "metadata": {
        "id": "CKTa_Qy_jCtu"
      },
      "outputs": [],
      "source": [
        "import pandas as pd\n",
        "import numpy as np\n",
        "from sklearn.preprocessing import MultiLabelBinarizer\n",
        "\n",
        "plants= (\"/content/drive/MyDrive/Colab Notebooks/datasets/plants.data\")\n",
        "\n",
        "'''After discovering the correct encoding, I noticed the loader didn't like the\n",
        "different number of datapoints in each line. So now I'm one-hot encoding the\n",
        "dataset right out of the box'''\n",
        "\n",
        "with open(plants, encoding='ISO-8859-1') as file:\n",
        "  for line in file:\n",
        "    items= line.strip().split() #turn each line into a list\n",
        "    plants= items[0]            #reorganize the list into respective variables\n",
        "    states= items[1:]\n"
      ]
    }
  ]
}